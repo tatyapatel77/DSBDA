{
 "cells": [
  {
   "cell_type": "markdown",
   "id": "ab4444a0",
   "metadata": {
    "papermill": {
     "duration": 0.010493,
     "end_time": "2022-08-27T10:15:13.867265",
     "exception": false,
     "start_time": "2022-08-27T10:15:13.856772",
     "status": "completed"
    },
    "tags": []
   },
   "source": [
    "# NETFLIX DATA ANALYSIS PROJECT"
   ]
  },
  {
   "cell_type": "code",
   "execution_count": 1,
   "id": "7e9e8967",
   "metadata": {
    "execution": {
     "iopub.execute_input": "2022-08-27T10:15:13.888002Z",
     "iopub.status.busy": "2022-08-27T10:15:13.887355Z",
     "iopub.status.idle": "2022-08-27T10:15:15.163607Z",
     "shell.execute_reply": "2022-08-27T10:15:15.162105Z"
    },
    "papermill": {
     "duration": 1.292939,
     "end_time": "2022-08-27T10:15:15.169458",
     "exception": false,
     "start_time": "2022-08-27T10:15:13.876519",
     "status": "completed"
    },
    "tags": []
   },
   "outputs": [],
   "source": [
    "%matplotlib inline\n",
    "\n",
    "import pandas as pd\n",
    "import numpy as np\n",
    "import matplotlib.pyplot as plt\n",
    "import seaborn as sns\n",
    "import datetime as dt"
   ]
  },
  {
   "cell_type": "markdown",
   "id": "ab5b4362",
   "metadata": {
    "papermill": {
     "duration": 0.011194,
     "end_time": "2022-08-27T10:15:15.194531",
     "exception": false,
     "start_time": "2022-08-27T10:15:15.183337",
     "status": "completed"
    },
    "tags": []
   },
   "source": [
    "### LOADING DATASET"
   ]
  },
  {
   "cell_type": "code",
   "execution_count": 2,
   "id": "34207160",
   "metadata": {
    "execution": {
     "iopub.execute_input": "2022-08-27T10:15:15.215870Z",
     "iopub.status.busy": "2022-08-27T10:15:15.214661Z",
     "iopub.status.idle": "2022-08-27T10:15:15.379507Z",
     "shell.execute_reply": "2022-08-27T10:15:15.378285Z"
    },
    "papermill": {
     "duration": 0.179809,
     "end_time": "2022-08-27T10:15:15.383525",
     "exception": false,
     "start_time": "2022-08-27T10:15:15.203716",
     "status": "completed"
    },
    "tags": []
   },
   "outputs": [
    {
     "data": {
      "text/html": [
       "<div>\n",
       "<style scoped>\n",
       "    .dataframe tbody tr th:only-of-type {\n",
       "        vertical-align: middle;\n",
       "    }\n",
       "\n",
       "    .dataframe tbody tr th {\n",
       "        vertical-align: top;\n",
       "    }\n",
       "\n",
       "    .dataframe thead th {\n",
       "        text-align: right;\n",
       "    }\n",
       "</style>\n",
       "<table border=\"1\" class=\"dataframe\">\n",
       "  <thead>\n",
       "    <tr style=\"text-align: right;\">\n",
       "      <th></th>\n",
       "      <th>show_id</th>\n",
       "      <th>type</th>\n",
       "      <th>title</th>\n",
       "      <th>director</th>\n",
       "      <th>cast</th>\n",
       "      <th>country</th>\n",
       "      <th>date_added</th>\n",
       "      <th>release_year</th>\n",
       "      <th>rating</th>\n",
       "      <th>duration</th>\n",
       "      <th>listed_in</th>\n",
       "      <th>description</th>\n",
       "    </tr>\n",
       "  </thead>\n",
       "  <tbody>\n",
       "    <tr>\n",
       "      <th>0</th>\n",
       "      <td>s1</td>\n",
       "      <td>Movie</td>\n",
       "      <td>Dick Johnson Is Dead</td>\n",
       "      <td>Kirsten Johnson</td>\n",
       "      <td>NaN</td>\n",
       "      <td>United States</td>\n",
       "      <td>September 25, 2021</td>\n",
       "      <td>2020</td>\n",
       "      <td>PG-13</td>\n",
       "      <td>90 min</td>\n",
       "      <td>Documentaries</td>\n",
       "      <td>As her father nears the end of his life, filmm...</td>\n",
       "    </tr>\n",
       "    <tr>\n",
       "      <th>1</th>\n",
       "      <td>s2</td>\n",
       "      <td>TV Show</td>\n",
       "      <td>Blood &amp; Water</td>\n",
       "      <td>NaN</td>\n",
       "      <td>Ama Qamata, Khosi Ngema, Gail Mabalane, Thaban...</td>\n",
       "      <td>South Africa</td>\n",
       "      <td>September 24, 2021</td>\n",
       "      <td>2021</td>\n",
       "      <td>TV-MA</td>\n",
       "      <td>2 Seasons</td>\n",
       "      <td>International TV Shows, TV Dramas, TV Mysteries</td>\n",
       "      <td>After crossing paths at a party, a Cape Town t...</td>\n",
       "    </tr>\n",
       "    <tr>\n",
       "      <th>2</th>\n",
       "      <td>s3</td>\n",
       "      <td>TV Show</td>\n",
       "      <td>Ganglands</td>\n",
       "      <td>Julien Leclercq</td>\n",
       "      <td>Sami Bouajila, Tracy Gotoas, Samuel Jouy, Nabi...</td>\n",
       "      <td>NaN</td>\n",
       "      <td>September 24, 2021</td>\n",
       "      <td>2021</td>\n",
       "      <td>TV-MA</td>\n",
       "      <td>1 Season</td>\n",
       "      <td>Crime TV Shows, International TV Shows, TV Act...</td>\n",
       "      <td>To protect his family from a powerful drug lor...</td>\n",
       "    </tr>\n",
       "    <tr>\n",
       "      <th>3</th>\n",
       "      <td>s4</td>\n",
       "      <td>TV Show</td>\n",
       "      <td>Jailbirds New Orleans</td>\n",
       "      <td>NaN</td>\n",
       "      <td>NaN</td>\n",
       "      <td>NaN</td>\n",
       "      <td>September 24, 2021</td>\n",
       "      <td>2021</td>\n",
       "      <td>TV-MA</td>\n",
       "      <td>1 Season</td>\n",
       "      <td>Docuseries, Reality TV</td>\n",
       "      <td>Feuds, flirtations and toilet talk go down amo...</td>\n",
       "    </tr>\n",
       "    <tr>\n",
       "      <th>4</th>\n",
       "      <td>s5</td>\n",
       "      <td>TV Show</td>\n",
       "      <td>Kota Factory</td>\n",
       "      <td>NaN</td>\n",
       "      <td>Mayur More, Jitendra Kumar, Ranjan Raj, Alam K...</td>\n",
       "      <td>India</td>\n",
       "      <td>September 24, 2021</td>\n",
       "      <td>2021</td>\n",
       "      <td>TV-MA</td>\n",
       "      <td>2 Seasons</td>\n",
       "      <td>International TV Shows, Romantic TV Shows, TV ...</td>\n",
       "      <td>In a city of coaching centers known to train I...</td>\n",
       "    </tr>\n",
       "  </tbody>\n",
       "</table>\n",
       "</div>"
      ],
      "text/plain": [
       "  show_id     type                  title         director  \\\n",
       "0      s1    Movie   Dick Johnson Is Dead  Kirsten Johnson   \n",
       "1      s2  TV Show          Blood & Water              NaN   \n",
       "2      s3  TV Show              Ganglands  Julien Leclercq   \n",
       "3      s4  TV Show  Jailbirds New Orleans              NaN   \n",
       "4      s5  TV Show           Kota Factory              NaN   \n",
       "\n",
       "                                                cast        country  \\\n",
       "0                                                NaN  United States   \n",
       "1  Ama Qamata, Khosi Ngema, Gail Mabalane, Thaban...   South Africa   \n",
       "2  Sami Bouajila, Tracy Gotoas, Samuel Jouy, Nabi...            NaN   \n",
       "3                                                NaN            NaN   \n",
       "4  Mayur More, Jitendra Kumar, Ranjan Raj, Alam K...          India   \n",
       "\n",
       "           date_added  release_year rating   duration  \\\n",
       "0  September 25, 2021          2020  PG-13     90 min   \n",
       "1  September 24, 2021          2021  TV-MA  2 Seasons   \n",
       "2  September 24, 2021          2021  TV-MA   1 Season   \n",
       "3  September 24, 2021          2021  TV-MA   1 Season   \n",
       "4  September 24, 2021          2021  TV-MA  2 Seasons   \n",
       "\n",
       "                                           listed_in  \\\n",
       "0                                      Documentaries   \n",
       "1    International TV Shows, TV Dramas, TV Mysteries   \n",
       "2  Crime TV Shows, International TV Shows, TV Act...   \n",
       "3                             Docuseries, Reality TV   \n",
       "4  International TV Shows, Romantic TV Shows, TV ...   \n",
       "\n",
       "                                         description  \n",
       "0  As her father nears the end of his life, filmm...  \n",
       "1  After crossing paths at a party, a Cape Town t...  \n",
       "2  To protect his family from a powerful drug lor...  \n",
       "3  Feuds, flirtations and toilet talk go down amo...  \n",
       "4  In a city of coaching centers known to train I...  "
      ]
     },
     "execution_count": 2,
     "metadata": {},
     "output_type": "execute_result"
    }
   ],
   "source": [
    "netflix_data = pd.read_csv(\"../input/dataset-netflix-shows/netflix_titles.csv\")\n",
    "netflix_data.head(5)"
   ]
  },
  {
   "cell_type": "markdown",
   "id": "67a6c038",
   "metadata": {
    "papermill": {
     "duration": 0.008963,
     "end_time": "2022-08-27T10:15:15.402230",
     "exception": false,
     "start_time": "2022-08-27T10:15:15.393267",
     "status": "completed"
    },
    "tags": []
   },
   "source": [
    "### DATA EXPLORATION"
   ]
  },
  {
   "cell_type": "code",
   "execution_count": 3,
   "id": "3073cc12",
   "metadata": {
    "execution": {
     "iopub.execute_input": "2022-08-27T10:15:15.423115Z",
     "iopub.status.busy": "2022-08-27T10:15:15.422573Z",
     "iopub.status.idle": "2022-08-27T10:15:15.455855Z",
     "shell.execute_reply": "2022-08-27T10:15:15.454647Z"
    },
    "papermill": {
     "duration": 0.046861,
     "end_time": "2022-08-27T10:15:15.458348",
     "exception": false,
     "start_time": "2022-08-27T10:15:15.411487",
     "status": "completed"
    },
    "tags": []
   },
   "outputs": [
    {
     "name": "stdout",
     "output_type": "stream",
     "text": [
      "<class 'pandas.core.frame.DataFrame'>\n",
      "RangeIndex: 8807 entries, 0 to 8806\n",
      "Data columns (total 12 columns):\n",
      " #   Column        Non-Null Count  Dtype \n",
      "---  ------        --------------  ----- \n",
      " 0   show_id       8807 non-null   object\n",
      " 1   type          8807 non-null   object\n",
      " 2   title         8807 non-null   object\n",
      " 3   director      6173 non-null   object\n",
      " 4   cast          7982 non-null   object\n",
      " 5   country       7976 non-null   object\n",
      " 6   date_added    8797 non-null   object\n",
      " 7   release_year  8807 non-null   int64 \n",
      " 8   rating        8803 non-null   object\n",
      " 9   duration      8804 non-null   object\n",
      " 10  listed_in     8807 non-null   object\n",
      " 11  description   8807 non-null   object\n",
      "dtypes: int64(1), object(11)\n",
      "memory usage: 825.8+ KB\n"
     ]
    }
   ],
   "source": [
    "netflix_data.info()"
   ]
  },
  {
   "cell_type": "code",
   "execution_count": 4,
   "id": "66b89b34",
   "metadata": {
    "execution": {
     "iopub.execute_input": "2022-08-27T10:15:15.480754Z",
     "iopub.status.busy": "2022-08-27T10:15:15.480233Z",
     "iopub.status.idle": "2022-08-27T10:15:15.515434Z",
     "shell.execute_reply": "2022-08-27T10:15:15.514225Z"
    },
    "papermill": {
     "duration": 0.049547,
     "end_time": "2022-08-27T10:15:15.518488",
     "exception": false,
     "start_time": "2022-08-27T10:15:15.468941",
     "status": "completed"
    },
    "tags": []
   },
   "outputs": [
    {
     "name": "stdout",
     "output_type": "stream",
     "text": [
      "0\n",
      "\n",
      "show_id            0\n",
      "type               0\n",
      "title              0\n",
      "director        2634\n",
      "cast             825\n",
      "country          831\n",
      "date_added        10\n",
      "release_year       0\n",
      "rating             4\n",
      "duration           3\n",
      "listed_in          0\n",
      "description        0\n",
      "dtype: int64\n"
     ]
    }
   ],
   "source": [
    "print(netflix_data.duplicated().sum(),netflix_data.isnull().sum(),sep = \"\\n\\n\")"
   ]
  },
  {
   "cell_type": "markdown",
   "id": "99e3e3db",
   "metadata": {
    "papermill": {
     "duration": 0.009999,
     "end_time": "2022-08-27T10:15:15.539430",
     "exception": false,
     "start_time": "2022-08-27T10:15:15.529431",
     "status": "completed"
    },
    "tags": []
   },
   "source": [
    "### DATA CLEANING"
   ]
  },
  {
   "cell_type": "code",
   "execution_count": 5,
   "id": "418e264b",
   "metadata": {
    "execution": {
     "iopub.execute_input": "2022-08-27T10:15:15.562236Z",
     "iopub.status.busy": "2022-08-27T10:15:15.560767Z",
     "iopub.status.idle": "2022-08-27T10:15:15.786923Z",
     "shell.execute_reply": "2022-08-27T10:15:15.785488Z"
    },
    "papermill": {
     "duration": 0.240518,
     "end_time": "2022-08-27T10:15:15.789976",
     "exception": false,
     "start_time": "2022-08-27T10:15:15.549458",
     "status": "completed"
    },
    "tags": []
   },
   "outputs": [
    {
     "name": "stdout",
     "output_type": "stream",
     "text": [
      "<class 'pandas.core.frame.DataFrame'>\n",
      "RangeIndex: 8807 entries, 0 to 8806\n",
      "Data columns (total 12 columns):\n",
      " #   Column        Non-Null Count  Dtype         \n",
      "---  ------        --------------  -----         \n",
      " 0   show_id       8807 non-null   object        \n",
      " 1   type          8807 non-null   object        \n",
      " 2   title         8807 non-null   object        \n",
      " 3   director      6173 non-null   object        \n",
      " 4   cast          7982 non-null   object        \n",
      " 5   country       7976 non-null   object        \n",
      " 6   date_added    8797 non-null   datetime64[ns]\n",
      " 7   release_year  8807 non-null   int64         \n",
      " 8   rating        8803 non-null   object        \n",
      " 9   duration      8804 non-null   object        \n",
      " 10  listed_in     8807 non-null   object        \n",
      " 11  description   8807 non-null   object        \n",
      "dtypes: datetime64[ns](1), int64(1), object(10)\n",
      "memory usage: 825.8+ KB\n"
     ]
    }
   ],
   "source": [
    "netflix_data[\"date_added\"] = pd.to_datetime(netflix_data[\"date_added\"])\n",
    "netflix_data.info()"
   ]
  },
  {
   "cell_type": "code",
   "execution_count": 6,
   "id": "6a799de3",
   "metadata": {
    "execution": {
     "iopub.execute_input": "2022-08-27T10:15:15.812534Z",
     "iopub.status.busy": "2022-08-27T10:15:15.811217Z",
     "iopub.status.idle": "2022-08-27T10:15:15.850856Z",
     "shell.execute_reply": "2022-08-27T10:15:15.849367Z"
    },
    "papermill": {
     "duration": 0.055416,
     "end_time": "2022-08-27T10:15:15.855088",
     "exception": false,
     "start_time": "2022-08-27T10:15:15.799672",
     "status": "completed"
    },
    "tags": []
   },
   "outputs": [
    {
     "data": {
      "text/html": [
       "<div>\n",
       "<style scoped>\n",
       "    .dataframe tbody tr th:only-of-type {\n",
       "        vertical-align: middle;\n",
       "    }\n",
       "\n",
       "    .dataframe tbody tr th {\n",
       "        vertical-align: top;\n",
       "    }\n",
       "\n",
       "    .dataframe thead th {\n",
       "        text-align: right;\n",
       "    }\n",
       "</style>\n",
       "<table border=\"1\" class=\"dataframe\">\n",
       "  <thead>\n",
       "    <tr style=\"text-align: right;\">\n",
       "      <th></th>\n",
       "      <th>show_id</th>\n",
       "      <th>type</th>\n",
       "      <th>title</th>\n",
       "      <th>director</th>\n",
       "      <th>cast</th>\n",
       "      <th>country</th>\n",
       "      <th>date_added</th>\n",
       "      <th>release_year</th>\n",
       "      <th>rating</th>\n",
       "      <th>duration</th>\n",
       "      <th>listed_in</th>\n",
       "      <th>description</th>\n",
       "      <th>month</th>\n",
       "      <th>year</th>\n",
       "    </tr>\n",
       "  </thead>\n",
       "  <tbody>\n",
       "    <tr>\n",
       "      <th>0</th>\n",
       "      <td>s1</td>\n",
       "      <td>Movie</td>\n",
       "      <td>Dick Johnson Is Dead</td>\n",
       "      <td>Kirsten Johnson</td>\n",
       "      <td>NaN</td>\n",
       "      <td>United States</td>\n",
       "      <td>2021-09-25</td>\n",
       "      <td>2020</td>\n",
       "      <td>PG-13</td>\n",
       "      <td>90 min</td>\n",
       "      <td>Documentaries</td>\n",
       "      <td>As her father nears the end of his life, filmm...</td>\n",
       "      <td>9.0</td>\n",
       "      <td>2021.0</td>\n",
       "    </tr>\n",
       "    <tr>\n",
       "      <th>1</th>\n",
       "      <td>s2</td>\n",
       "      <td>TV Show</td>\n",
       "      <td>Blood &amp; Water</td>\n",
       "      <td>NaN</td>\n",
       "      <td>Ama Qamata, Khosi Ngema, Gail Mabalane, Thaban...</td>\n",
       "      <td>South Africa</td>\n",
       "      <td>2021-09-24</td>\n",
       "      <td>2021</td>\n",
       "      <td>TV-MA</td>\n",
       "      <td>2 Seasons</td>\n",
       "      <td>International TV Shows, TV Dramas, TV Mysteries</td>\n",
       "      <td>After crossing paths at a party, a Cape Town t...</td>\n",
       "      <td>9.0</td>\n",
       "      <td>2021.0</td>\n",
       "    </tr>\n",
       "    <tr>\n",
       "      <th>2</th>\n",
       "      <td>s3</td>\n",
       "      <td>TV Show</td>\n",
       "      <td>Ganglands</td>\n",
       "      <td>Julien Leclercq</td>\n",
       "      <td>Sami Bouajila, Tracy Gotoas, Samuel Jouy, Nabi...</td>\n",
       "      <td>NaN</td>\n",
       "      <td>2021-09-24</td>\n",
       "      <td>2021</td>\n",
       "      <td>TV-MA</td>\n",
       "      <td>1 Season</td>\n",
       "      <td>Crime TV Shows, International TV Shows, TV Act...</td>\n",
       "      <td>To protect his family from a powerful drug lor...</td>\n",
       "      <td>9.0</td>\n",
       "      <td>2021.0</td>\n",
       "    </tr>\n",
       "  </tbody>\n",
       "</table>\n",
       "</div>"
      ],
      "text/plain": [
       "  show_id     type                 title         director  \\\n",
       "0      s1    Movie  Dick Johnson Is Dead  Kirsten Johnson   \n",
       "1      s2  TV Show         Blood & Water              NaN   \n",
       "2      s3  TV Show             Ganglands  Julien Leclercq   \n",
       "\n",
       "                                                cast        country  \\\n",
       "0                                                NaN  United States   \n",
       "1  Ama Qamata, Khosi Ngema, Gail Mabalane, Thaban...   South Africa   \n",
       "2  Sami Bouajila, Tracy Gotoas, Samuel Jouy, Nabi...            NaN   \n",
       "\n",
       "  date_added  release_year rating   duration  \\\n",
       "0 2021-09-25          2020  PG-13     90 min   \n",
       "1 2021-09-24          2021  TV-MA  2 Seasons   \n",
       "2 2021-09-24          2021  TV-MA   1 Season   \n",
       "\n",
       "                                           listed_in  \\\n",
       "0                                      Documentaries   \n",
       "1    International TV Shows, TV Dramas, TV Mysteries   \n",
       "2  Crime TV Shows, International TV Shows, TV Act...   \n",
       "\n",
       "                                         description  month    year  \n",
       "0  As her father nears the end of his life, filmm...    9.0  2021.0  \n",
       "1  After crossing paths at a party, a Cape Town t...    9.0  2021.0  \n",
       "2  To protect his family from a powerful drug lor...    9.0  2021.0  "
      ]
     },
     "execution_count": 6,
     "metadata": {},
     "output_type": "execute_result"
    }
   ],
   "source": [
    "netflix_data[\"date_added\"] = pd.to_datetime(netflix_data[\"date_added\"])\n",
    "netflix_data[\"month\"] = netflix_data[\"date_added\"].dt.month\n",
    "netflix_data[\"year\"] = netflix_data[\"date_added\"].dt.year\n",
    "netflix_data.head(3)"
   ]
  },
  {
   "cell_type": "code",
   "execution_count": 7,
   "id": "9e4ee0f9",
   "metadata": {
    "execution": {
     "iopub.execute_input": "2022-08-27T10:15:15.878100Z",
     "iopub.status.busy": "2022-08-27T10:15:15.877149Z",
     "iopub.status.idle": "2022-08-27T10:15:15.906519Z",
     "shell.execute_reply": "2022-08-27T10:15:15.904993Z"
    },
    "papermill": {
     "duration": 0.045199,
     "end_time": "2022-08-27T10:15:15.910488",
     "exception": false,
     "start_time": "2022-08-27T10:15:15.865289",
     "status": "completed"
    },
    "tags": []
   },
   "outputs": [
    {
     "data": {
      "text/html": [
       "<div>\n",
       "<style scoped>\n",
       "    .dataframe tbody tr th:only-of-type {\n",
       "        vertical-align: middle;\n",
       "    }\n",
       "\n",
       "    .dataframe tbody tr th {\n",
       "        vertical-align: top;\n",
       "    }\n",
       "\n",
       "    .dataframe thead th {\n",
       "        text-align: right;\n",
       "    }\n",
       "</style>\n",
       "<table border=\"1\" class=\"dataframe\">\n",
       "  <thead>\n",
       "    <tr style=\"text-align: right;\">\n",
       "      <th></th>\n",
       "      <th>show_id</th>\n",
       "      <th>type</th>\n",
       "      <th>title</th>\n",
       "      <th>director</th>\n",
       "      <th>cast</th>\n",
       "      <th>country</th>\n",
       "      <th>date_added</th>\n",
       "      <th>release_year</th>\n",
       "      <th>rating</th>\n",
       "      <th>duration</th>\n",
       "      <th>Genre</th>\n",
       "      <th>description</th>\n",
       "      <th>month</th>\n",
       "      <th>year</th>\n",
       "    </tr>\n",
       "  </thead>\n",
       "  <tbody>\n",
       "    <tr>\n",
       "      <th>0</th>\n",
       "      <td>s1</td>\n",
       "      <td>Movie</td>\n",
       "      <td>Dick Johnson Is Dead</td>\n",
       "      <td>Kirsten Johnson</td>\n",
       "      <td>NaN</td>\n",
       "      <td>United States</td>\n",
       "      <td>2021-09-25</td>\n",
       "      <td>2020</td>\n",
       "      <td>PG-13</td>\n",
       "      <td>90 min</td>\n",
       "      <td>Documentaries</td>\n",
       "      <td>As her father nears the end of his life, filmm...</td>\n",
       "      <td>9.0</td>\n",
       "      <td>2021.0</td>\n",
       "    </tr>\n",
       "    <tr>\n",
       "      <th>1</th>\n",
       "      <td>s2</td>\n",
       "      <td>TV Show</td>\n",
       "      <td>Blood &amp; Water</td>\n",
       "      <td>NaN</td>\n",
       "      <td>Ama Qamata, Khosi Ngema, Gail Mabalane, Thaban...</td>\n",
       "      <td>South Africa</td>\n",
       "      <td>2021-09-24</td>\n",
       "      <td>2021</td>\n",
       "      <td>TV-MA</td>\n",
       "      <td>2 Seasons</td>\n",
       "      <td>International TV Shows</td>\n",
       "      <td>After crossing paths at a party, a Cape Town t...</td>\n",
       "      <td>9.0</td>\n",
       "      <td>2021.0</td>\n",
       "    </tr>\n",
       "    <tr>\n",
       "      <th>2</th>\n",
       "      <td>s3</td>\n",
       "      <td>TV Show</td>\n",
       "      <td>Ganglands</td>\n",
       "      <td>Julien Leclercq</td>\n",
       "      <td>Sami Bouajila, Tracy Gotoas, Samuel Jouy, Nabi...</td>\n",
       "      <td>NaN</td>\n",
       "      <td>2021-09-24</td>\n",
       "      <td>2021</td>\n",
       "      <td>TV-MA</td>\n",
       "      <td>1 Season</td>\n",
       "      <td>Crime TV Shows</td>\n",
       "      <td>To protect his family from a powerful drug lor...</td>\n",
       "      <td>9.0</td>\n",
       "      <td>2021.0</td>\n",
       "    </tr>\n",
       "  </tbody>\n",
       "</table>\n",
       "</div>"
      ],
      "text/plain": [
       "  show_id     type                 title         director  \\\n",
       "0      s1    Movie  Dick Johnson Is Dead  Kirsten Johnson   \n",
       "1      s2  TV Show         Blood & Water              NaN   \n",
       "2      s3  TV Show             Ganglands  Julien Leclercq   \n",
       "\n",
       "                                                cast        country  \\\n",
       "0                                                NaN  United States   \n",
       "1  Ama Qamata, Khosi Ngema, Gail Mabalane, Thaban...   South Africa   \n",
       "2  Sami Bouajila, Tracy Gotoas, Samuel Jouy, Nabi...            NaN   \n",
       "\n",
       "  date_added  release_year rating   duration                   Genre  \\\n",
       "0 2021-09-25          2020  PG-13     90 min           Documentaries   \n",
       "1 2021-09-24          2021  TV-MA  2 Seasons  International TV Shows   \n",
       "2 2021-09-24          2021  TV-MA   1 Season          Crime TV Shows   \n",
       "\n",
       "                                         description  month    year  \n",
       "0  As her father nears the end of his life, filmm...    9.0  2021.0  \n",
       "1  After crossing paths at a party, a Cape Town t...    9.0  2021.0  \n",
       "2  To protect his family from a powerful drug lor...    9.0  2021.0  "
      ]
     },
     "execution_count": 7,
     "metadata": {},
     "output_type": "execute_result"
    }
   ],
   "source": [
    "netflix_data = netflix_data.rename(columns = {\"listed_in\":\"Genre\"})\n",
    "netflix_data[\"Genre\"] = netflix_data[\"Genre\"].apply(lambda x : x.split(\",\")[0])\n",
    "netflix_data.head(3)"
   ]
  },
  {
   "cell_type": "code",
   "execution_count": 8,
   "id": "7952c995",
   "metadata": {
    "execution": {
     "iopub.execute_input": "2022-08-27T10:15:15.933439Z",
     "iopub.status.busy": "2022-08-27T10:15:15.932581Z",
     "iopub.status.idle": "2022-08-27T10:15:15.995898Z",
     "shell.execute_reply": "2022-08-27T10:15:15.994628Z"
    },
    "papermill": {
     "duration": 0.077552,
     "end_time": "2022-08-27T10:15:15.998442",
     "exception": false,
     "start_time": "2022-08-27T10:15:15.920890",
     "status": "completed"
    },
    "tags": []
   },
   "outputs": [
    {
     "data": {
      "text/plain": [
       "show_id         0\n",
       "type            0\n",
       "title           0\n",
       "director        0\n",
       "cast            0\n",
       "country         0\n",
       "date_added      0\n",
       "release_year    0\n",
       "rating          0\n",
       "duration        0\n",
       "Genre           0\n",
       "description     0\n",
       "month           0\n",
       "year            0\n",
       "dtype: int64"
      ]
     },
     "execution_count": 8,
     "metadata": {},
     "output_type": "execute_result"
    }
   ],
   "source": [
    "netflix_data.fillna({\"director\":\"Missing\",\"cast\":\"Missing\",\"country\":\"Unavailable\",\"date_added\":\"Unavailable\",\"rating\":\"Unavailable\",\n",
    "                     \"duration\":\"Unavailable\",\"month\":\"Unavailable\",\"year\":\"Unavailable\"},inplace= True)\n",
    "netflix_data.isnull().sum()"
   ]
  },
  {
   "cell_type": "markdown",
   "id": "f3a35314",
   "metadata": {
    "papermill": {
     "duration": 0.009816,
     "end_time": "2022-08-27T10:15:16.018571",
     "exception": false,
     "start_time": "2022-08-27T10:15:16.008755",
     "status": "completed"
    },
    "tags": []
   },
   "source": [
    "## VISUALIZATION"
   ]
  },
  {
   "cell_type": "markdown",
   "id": "0c9d73ad",
   "metadata": {
    "papermill": {
     "duration": 0.01037,
     "end_time": "2022-08-27T10:15:16.039437",
     "exception": false,
     "start_time": "2022-08-27T10:15:16.029067",
     "status": "completed"
    },
    "tags": []
   },
   "source": [
    "### How many Movies & TV Shows are in the dataset ? "
   ]
  },
  {
   "cell_type": "code",
   "execution_count": 9,
   "id": "103fbe37",
   "metadata": {
    "execution": {
     "iopub.execute_input": "2022-08-27T10:15:16.062815Z",
     "iopub.status.busy": "2022-08-27T10:15:16.061875Z",
     "iopub.status.idle": "2022-08-27T10:15:16.072120Z",
     "shell.execute_reply": "2022-08-27T10:15:16.071017Z"
    },
    "papermill": {
     "duration": 0.024601,
     "end_time": "2022-08-27T10:15:16.074389",
     "exception": false,
     "start_time": "2022-08-27T10:15:16.049788",
     "status": "completed"
    },
    "tags": []
   },
   "outputs": [
    {
     "data": {
      "text/plain": [
       "Movie      6131\n",
       "TV Show    2676\n",
       "Name: type, dtype: int64"
      ]
     },
     "execution_count": 9,
     "metadata": {},
     "output_type": "execute_result"
    }
   ],
   "source": [
    "netflix_data[\"type\"].value_counts()"
   ]
  },
  {
   "cell_type": "code",
   "execution_count": 10,
   "id": "4587e7ef",
   "metadata": {
    "execution": {
     "iopub.execute_input": "2022-08-27T10:15:16.097816Z",
     "iopub.status.busy": "2022-08-27T10:15:16.096792Z",
     "iopub.status.idle": "2022-08-27T10:15:16.373642Z",
     "shell.execute_reply": "2022-08-27T10:15:16.372327Z"
    },
    "papermill": {
     "duration": 0.291888,
     "end_time": "2022-08-27T10:15:16.376769",
     "exception": false,
     "start_time": "2022-08-27T10:15:16.084881",
     "status": "completed"
    },
    "tags": []
   },
   "outputs": [
    {
     "data": {
      "text/plain": [
       "Text(0.5, 1.0, 'CONTENT ON NETFLIX')"
      ]
     },
     "execution_count": 10,
     "metadata": {},
     "output_type": "execute_result"
    },
    {
     "data": {
      "image/png": "[encoded data removed]",
      "text/plain": [
       "<Figure size 432x288 with 1 Axes>"
      ]
     },
     "metadata": {
      "needs_background": "light"
     },
     "output_type": "display_data"
    }
   ],
   "source": [
    "plt.figure(figsize =(6,4))\n",
    "sns.set_style(\"darkgrid\")\n",
    "sns.countplot(x = \"type\",data =netflix_data, palette = \"Set2\")\n",
    "plt.title(\"CONTENT ON NETFLIX\")"
   ]
  },
  {
   "cell_type": "markdown",
   "id": "220bd8d9",
   "metadata": {
    "papermill": {
     "duration": 0.011076,
     "end_time": "2022-08-27T10:15:16.399344",
     "exception": false,
     "start_time": "2022-08-27T10:15:16.388268",
     "status": "completed"
    },
    "tags": []
   },
   "source": [
    "### In which year there was highest no of Tv Shows and Movie ?"
   ]
  },
  {
   "cell_type": "code",
   "execution_count": 11,
   "id": "f3b800dc",
   "metadata": {
    "execution": {
     "iopub.execute_input": "2022-08-27T10:15:16.423496Z",
     "iopub.status.busy": "2022-08-27T10:15:16.423040Z",
     "iopub.status.idle": "2022-08-27T10:15:16.433861Z",
     "shell.execute_reply": "2022-08-27T10:15:16.432554Z"
    },
    "papermill": {
     "duration": 0.026223,
     "end_time": "2022-08-27T10:15:16.436477",
     "exception": false,
     "start_time": "2022-08-27T10:15:16.410254",
     "status": "completed"
    },
    "tags": []
   },
   "outputs": [
    {
     "data": {
      "text/plain": [
       "2019.0         2016\n",
       "2020.0         1879\n",
       "2018.0         1649\n",
       "2021.0         1498\n",
       "2017.0         1188\n",
       "2016.0          429\n",
       "2015.0           82\n",
       "2014.0           24\n",
       "2011.0           13\n",
       "2013.0           11\n",
       "Unavailable      10\n",
       "2012.0            3\n",
       "2009.0            2\n",
       "2008.0            2\n",
       "2010.0            1\n",
       "Name: year, dtype: int64"
      ]
     },
     "execution_count": 11,
     "metadata": {},
     "output_type": "execute_result"
    }
   ],
   "source": [
    "netflix_data[\"year\"].value_counts()"
   ]
  },
  {
   "cell_type": "code",
   "execution_count": 12,
   "id": "75750c99",
   "metadata": {
    "execution": {
     "iopub.execute_input": "2022-08-27T10:15:16.460833Z",
     "iopub.status.busy": "2022-08-27T10:15:16.460349Z",
     "iopub.status.idle": "2022-08-27T10:15:16.714722Z",
     "shell.execute_reply": "2022-08-27T10:15:16.713502Z"
    },
    "papermill": {
     "duration": 0.269675,
     "end_time": "2022-08-27T10:15:16.717313",
     "exception": false,
     "start_time": "2022-08-27T10:15:16.447638",
     "status": "completed"
    },
    "tags": []
   },
   "outputs": [
    {
     "data": {
      "text/plain": [
       "Text(0.5, 1.0, 'YEAR VS MOVIE & TV SHOWS')"
      ]
     },
     "execution_count": 12,
     "metadata": {},
     "output_type": "execute_result"
    },
    {
     "data": {
      "image/png": "[encoded data removed]",
      "text/plain": [
       "<Figure size 576x432 with 1 Axes>"
      ]
     },
     "metadata": {},
     "output_type": "display_data"
    }
   ],
   "source": [
    "plt.figure(figsize =(8,6))\n",
    "plt.style.use(\"ggplot\")\n",
    "netflix_data[\"year\"].value_counts().plot(kind =\"line\",color = 'green',linestyle = 'solid', marker = 'o',markerfacecolor = 'red', markersize = 8)   \n",
    "plt.title(\"YEAR VS MOVIE & TV SHOWS\")\n"
   ]
  },
  {
   "cell_type": "markdown",
   "id": "97317d2c",
   "metadata": {
    "papermill": {
     "duration": 0.01102,
     "end_time": "2022-08-27T10:15:16.740244",
     "exception": false,
     "start_time": "2022-08-27T10:15:16.729224",
     "status": "completed"
    },
    "tags": []
   },
   "source": [
    "### In which month there was highest no of TV Shows & Movies?"
   ]
  },
  {
   "cell_type": "code",
   "execution_count": 13,
   "id": "7ef47d29",
   "metadata": {
    "execution": {
     "iopub.execute_input": "2022-08-27T10:15:16.766050Z",
     "iopub.status.busy": "2022-08-27T10:15:16.765500Z",
     "iopub.status.idle": "2022-08-27T10:15:16.794720Z",
     "shell.execute_reply": "2022-08-27T10:15:16.793194Z"
    },
    "papermill": {
     "duration": 0.046093,
     "end_time": "2022-08-27T10:15:16.797887",
     "exception": false,
     "start_time": "2022-08-27T10:15:16.751794",
     "status": "completed"
    },
    "tags": []
   },
   "outputs": [
    {
     "data": {
      "text/html": [
       "<div>\n",
       "<style scoped>\n",
       "    .dataframe tbody tr th:only-of-type {\n",
       "        vertical-align: middle;\n",
       "    }\n",
       "\n",
       "    .dataframe tbody tr th {\n",
       "        vertical-align: top;\n",
       "    }\n",
       "\n",
       "    .dataframe thead th {\n",
       "        text-align: right;\n",
       "    }\n",
       "</style>\n",
       "<table border=\"1\" class=\"dataframe\">\n",
       "  <thead>\n",
       "    <tr style=\"text-align: right;\">\n",
       "      <th></th>\n",
       "      <th>show_id</th>\n",
       "      <th>type</th>\n",
       "      <th>title</th>\n",
       "      <th>director</th>\n",
       "      <th>cast</th>\n",
       "      <th>country</th>\n",
       "      <th>date_added</th>\n",
       "      <th>release_year</th>\n",
       "      <th>rating</th>\n",
       "      <th>duration</th>\n",
       "      <th>Genre</th>\n",
       "      <th>description</th>\n",
       "      <th>month</th>\n",
       "      <th>year</th>\n",
       "    </tr>\n",
       "  </thead>\n",
       "  <tbody>\n",
       "    <tr>\n",
       "      <th>0</th>\n",
       "      <td>s1</td>\n",
       "      <td>Movie</td>\n",
       "      <td>Dick Johnson Is Dead</td>\n",
       "      <td>Kirsten Johnson</td>\n",
       "      <td>Missing</td>\n",
       "      <td>United States</td>\n",
       "      <td>2021-09-25 00:00:00</td>\n",
       "      <td>2020</td>\n",
       "      <td>PG-13</td>\n",
       "      <td>90 min</td>\n",
       "      <td>Documentaries</td>\n",
       "      <td>As her father nears the end of his life, filmm...</td>\n",
       "      <td>Sept</td>\n",
       "      <td>2021.0</td>\n",
       "    </tr>\n",
       "    <tr>\n",
       "      <th>1</th>\n",
       "      <td>s2</td>\n",
       "      <td>TV Show</td>\n",
       "      <td>Blood &amp; Water</td>\n",
       "      <td>Missing</td>\n",
       "      <td>Ama Qamata, Khosi Ngema, Gail Mabalane, Thaban...</td>\n",
       "      <td>South Africa</td>\n",
       "      <td>2021-09-24 00:00:00</td>\n",
       "      <td>2021</td>\n",
       "      <td>TV-MA</td>\n",
       "      <td>2 Seasons</td>\n",
       "      <td>International TV Shows</td>\n",
       "      <td>After crossing paths at a party, a Cape Town t...</td>\n",
       "      <td>Sept</td>\n",
       "      <td>2021.0</td>\n",
       "    </tr>\n",
       "  </tbody>\n",
       "</table>\n",
       "</div>"
      ],
      "text/plain": [
       "  show_id     type                 title         director  \\\n",
       "0      s1    Movie  Dick Johnson Is Dead  Kirsten Johnson   \n",
       "1      s2  TV Show         Blood & Water          Missing   \n",
       "\n",
       "                                                cast        country  \\\n",
       "0                                            Missing  United States   \n",
       "1  Ama Qamata, Khosi Ngema, Gail Mabalane, Thaban...   South Africa   \n",
       "\n",
       "            date_added  release_year rating   duration  \\\n",
       "0  2021-09-25 00:00:00          2020  PG-13     90 min   \n",
       "1  2021-09-24 00:00:00          2021  TV-MA  2 Seasons   \n",
       "\n",
       "                    Genre                                        description  \\\n",
       "0           Documentaries  As her father nears the end of his life, filmm...   \n",
       "1  International TV Shows  After crossing paths at a party, a Cape Town t...   \n",
       "\n",
       "  month    year  \n",
       "0  Sept  2021.0  \n",
       "1  Sept  2021.0  "
      ]
     },
     "execution_count": 13,
     "metadata": {},
     "output_type": "execute_result"
    }
   ],
   "source": [
    "netflix_data[\"month\"] = netflix_data[\"month\"].replace({1 : \"Jan\",2 : \"Feb\",3 : \"March\",4:\"April\",5 :\"May\",6 :\"June\",7 : \"July\",\n",
    "                        8 : \"Aug\",9:\"Sept\", 10 : \"Oct\",11 : \"Nov\",12 : \"Dec\"})\n",
    "netflix_data[:2]"
   ]
  },
  {
   "cell_type": "code",
   "execution_count": 14,
   "id": "828f9fa0",
   "metadata": {
    "execution": {
     "iopub.execute_input": "2022-08-27T10:15:16.827450Z",
     "iopub.status.busy": "2022-08-27T10:15:16.826489Z",
     "iopub.status.idle": "2022-08-27T10:15:16.836986Z",
     "shell.execute_reply": "2022-08-27T10:15:16.835977Z"
    },
    "papermill": {
     "duration": 0.026793,
     "end_time": "2022-08-27T10:15:16.839640",
     "exception": false,
     "start_time": "2022-08-27T10:15:16.812847",
     "status": "completed"
    },
    "tags": []
   },
   "outputs": [
    {
     "data": {
      "text/plain": [
       "July           827\n",
       "Dec            813\n",
       "Sept           770\n",
       "April          764\n",
       "Oct            760\n",
       "Aug            755\n",
       "March          742\n",
       "Jan            738\n",
       "June           728\n",
       "Nov            705\n",
       "May            632\n",
       "Feb            563\n",
       "Unavailable     10\n",
       "Name: month, dtype: int64"
      ]
     },
     "execution_count": 14,
     "metadata": {},
     "output_type": "execute_result"
    }
   ],
   "source": [
    "netflix_data[\"month\"].value_counts()"
   ]
  },
  {
   "cell_type": "code",
   "execution_count": 15,
   "id": "13f46e06",
   "metadata": {
    "execution": {
     "iopub.execute_input": "2022-08-27T10:15:16.866739Z",
     "iopub.status.busy": "2022-08-27T10:15:16.865811Z",
     "iopub.status.idle": "2022-08-27T10:15:17.140765Z",
     "shell.execute_reply": "2022-08-27T10:15:17.139853Z"
    },
    "papermill": {
     "duration": 0.29124,
     "end_time": "2022-08-27T10:15:17.143140",
     "exception": false,
     "start_time": "2022-08-27T10:15:16.851900",
     "status": "completed"
    },
    "tags": []
   },
   "outputs": [
    {
     "data": {
      "text/plain": [
       "Text(0.5, 1.0, 'MONTH VS MOVIE & TV SHOWS')"
      ]
     },
     "execution_count": 15,
     "metadata": {},
     "output_type": "execute_result"
    },
    {
     "data": {
      "image/png": "[encoded data removed]",
      "text/plain": [
       "<Figure size 576x432 with 1 Axes>"
      ]
     },
     "metadata": {},
     "output_type": "display_data"
    }
   ],
   "source": [
    "plt.figure(figsize =(8,6))\n",
    "plt.style.use(\"ggplot\")\n",
    "netflix_data[\"month\"].value_counts().plot(kind =\"line\",color = 'green',linestyle = 'solid', marker = 'o',markerfacecolor = 'red', markersize = 8)   \n",
    "plt.title(\"MONTH VS MOVIE & TV SHOWS\")"
   ]
  },
  {
   "cell_type": "markdown",
   "id": "74bcce98",
   "metadata": {
    "papermill": {
     "duration": 0.012666,
     "end_time": "2022-08-27T10:15:17.168492",
     "exception": false,
     "start_time": "2022-08-27T10:15:17.155826",
     "status": "completed"
    },
    "tags": []
   },
   "source": [
    "### Top 10 countries content on netflix"
   ]
  },
  {
   "cell_type": "code",
   "execution_count": 16,
   "id": "a8777268",
   "metadata": {
    "execution": {
     "iopub.execute_input": "2022-08-27T10:15:17.196021Z",
     "iopub.status.busy": "2022-08-27T10:15:17.195217Z",
     "iopub.status.idle": "2022-08-27T10:15:17.590345Z",
     "shell.execute_reply": "2022-08-27T10:15:17.589021Z"
    },
    "papermill": {
     "duration": 0.412067,
     "end_time": "2022-08-27T10:15:17.593193",
     "exception": false,
     "start_time": "2022-08-27T10:15:17.181126",
     "status": "completed"
    },
    "tags": []
   },
   "outputs": [
    {
     "data": {
      "text/plain": [
       "Text(0.5, 1.0, 'Top 10 Countries Content On Netflix')"
      ]
     },
     "execution_count": 16,
     "metadata": {},
     "output_type": "execute_result"
    },
    {
     "data": {
      "image/png": "[encoded data removed]",
      "text/plain": [
       "<Figure size 720x432 with 1 Axes>"
      ]
     },
     "metadata": {},
     "output_type": "display_data"
    }
   ],
   "source": [
    "plt.figure(figsize = (10,6))\n",
    "sns.set_style(\"whitegrid\")\n",
    "sns.countplot(x=\"country\", order = netflix_data[\"country\"].value_counts().index[0:10],hue = \"type\",data = netflix_data)\n",
    "plt.title(\"Top 10 Countries Content On Netflix\")"
   ]
  },
  {
   "cell_type": "markdown",
   "id": "d57d3bd9",
   "metadata": {
    "papermill": {
     "duration": 0.012336,
     "end_time": "2022-08-27T10:15:17.618365",
     "exception": false,
     "start_time": "2022-08-27T10:15:17.606029",
     "status": "completed"
    },
    "tags": []
   },
   "source": [
    "### Which are the top 10 ratings given to the show?"
   ]
  },
  {
   "cell_type": "code",
   "execution_count": 17,
   "id": "cbfedd57",
   "metadata": {
    "execution": {
     "iopub.execute_input": "2022-08-27T10:15:17.647608Z",
     "iopub.status.busy": "2022-08-27T10:15:17.646839Z",
     "iopub.status.idle": "2022-08-27T10:15:17.657481Z",
     "shell.execute_reply": "2022-08-27T10:15:17.656290Z"
    },
    "papermill": {
     "duration": 0.028565,
     "end_time": "2022-08-27T10:15:17.659656",
     "exception": false,
     "start_time": "2022-08-27T10:15:17.631091",
     "status": "completed"
    },
    "tags": []
   },
   "outputs": [
    {
     "data": {
      "text/plain": [
       "TV-MA    3207\n",
       "TV-14    2160\n",
       "TV-PG     863\n",
       "R         799\n",
       "PG-13     490\n",
       "TV-Y7     334\n",
       "TV-Y      307\n",
       "PG        287\n",
       "TV-G      220\n",
       "NR         80\n",
       "Name: rating, dtype: int64"
      ]
     },
     "execution_count": 17,
     "metadata": {},
     "output_type": "execute_result"
    }
   ],
   "source": [
    "netflix_data[\"rating\"].value_counts().head(10)"
   ]
  },
  {
   "cell_type": "code",
   "execution_count": 18,
   "id": "8356b885",
   "metadata": {
    "execution": {
     "iopub.execute_input": "2022-08-27T10:15:17.687867Z",
     "iopub.status.busy": "2022-08-27T10:15:17.687125Z",
     "iopub.status.idle": "2022-08-27T10:15:17.914469Z",
     "shell.execute_reply": "2022-08-27T10:15:17.912795Z"
    },
    "papermill": {
     "duration": 0.24484,
     "end_time": "2022-08-27T10:15:17.917295",
     "exception": false,
     "start_time": "2022-08-27T10:15:17.672455",
     "status": "completed"
    },
    "tags": []
   },
   "outputs": [
    {
     "data": {
      "text/plain": [
       "Text(0.5, 1.0, 'Distribution Of Rating')"
      ]
     },
     "execution_count": 18,
     "metadata": {},
     "output_type": "execute_result"
    },
    {
     "data": {
      "image/png": "[encoded data removed]",
      "text/plain": [
       "<Figure size 720x432 with 1 Axes>"
      ]
     },
     "metadata": {},
     "output_type": "display_data"
    }
   ],
   "source": [
    "plt.figure(figsize = (10,6))\n",
    "plt.style.use(\"Solarize_Light2\")\n",
    "netflix_data[\"rating\"].value_counts()[:10].plot(kind =\"pie\",autopct= \"%1.1f%%\")\n",
    "plt.title(\"Distribution Of Rating\")"
   ]
  },
  {
   "cell_type": "markdown",
   "id": "e3a276b7",
   "metadata": {
    "papermill": {
     "duration": 0.014781,
     "end_time": "2022-08-27T10:15:17.946402",
     "exception": false,
     "start_time": "2022-08-27T10:15:17.931621",
     "status": "completed"
    },
    "tags": []
   },
   "source": [
    "### Find the highest watched genre on Netflix?\n"
   ]
  },
  {
   "cell_type": "code",
   "execution_count": 19,
   "id": "fa5cadfd",
   "metadata": {
    "execution": {
     "iopub.execute_input": "2022-08-27T10:15:17.976823Z",
     "iopub.status.busy": "2022-08-27T10:15:17.976075Z",
     "iopub.status.idle": "2022-08-27T10:15:17.986198Z",
     "shell.execute_reply": "2022-08-27T10:15:17.985313Z"
    },
    "papermill": {
     "duration": 0.028234,
     "end_time": "2022-08-27T10:15:17.988587",
     "exception": false,
     "start_time": "2022-08-27T10:15:17.960353",
     "status": "completed"
    },
    "tags": []
   },
   "outputs": [
    {
     "data": {
      "text/plain": [
       "Dramas                      1600\n",
       "Comedies                    1210\n",
       "Action & Adventure           859\n",
       "Documentaries                829\n",
       "International TV Shows       774\n",
       "Children & Family Movies     605\n",
       "Crime TV Shows               399\n",
       "Kids' TV                     388\n",
       "Stand-Up Comedy              334\n",
       "Horror Movies                275\n",
       "Name: Genre, dtype: int64"
      ]
     },
     "execution_count": 19,
     "metadata": {},
     "output_type": "execute_result"
    }
   ],
   "source": [
    "netflix_data[\"Genre\"].value_counts()[:10]"
   ]
  },
  {
   "cell_type": "code",
   "execution_count": 20,
   "id": "f339898b",
   "metadata": {
    "execution": {
     "iopub.execute_input": "2022-08-27T10:15:18.019971Z",
     "iopub.status.busy": "2022-08-27T10:15:18.019104Z",
     "iopub.status.idle": "2022-08-27T10:15:18.533870Z",
     "shell.execute_reply": "2022-08-27T10:15:18.532579Z"
    },
    "papermill": {
     "duration": 0.534712,
     "end_time": "2022-08-27T10:15:18.537272",
     "exception": false,
     "start_time": "2022-08-27T10:15:18.002560",
     "status": "completed"
    },
    "tags": []
   },
   "outputs": [
    {
     "data": {
      "text/plain": [
       "Text(0.5, 1.0, 'Most Popular Genre')"
      ]
     },
     "execution_count": 20,
     "metadata": {},
     "output_type": "execute_result"
    },
    {
     "data": {
      "image/png": "[encoded data removed]",
      "text/plain": [
       "<Figure size 864x432 with 1 Axes>"
      ]
     },
     "metadata": {},
     "output_type": "display_data"
    }
   ],
   "source": [
    "plt.figure(figsize = (12,6))\n",
    "plt.style.use(\"ggplot\")\n",
    "ax = netflix_data[\"Genre\"].value_counts().plot(kind =\"barh\", color = \"blue\")\n",
    "plt.title(\"Most Popular Genre\")\n"
   ]
  },
  {
   "cell_type": "markdown",
   "id": "8abc1205",
   "metadata": {
    "papermill": {
     "duration": 0.014792,
     "end_time": "2022-08-27T10:15:18.568439",
     "exception": false,
     "start_time": "2022-08-27T10:15:18.553647",
     "status": "completed"
    },
    "tags": []
   },
   "source": [
    "### Top 10 directors which gave max no of shows?"
   ]
  },
  {
   "cell_type": "code",
   "execution_count": 21,
   "id": "291b292b",
   "metadata": {
    "execution": {
     "iopub.execute_input": "2022-08-27T10:15:18.600894Z",
     "iopub.status.busy": "2022-08-27T10:15:18.600400Z",
     "iopub.status.idle": "2022-08-27T10:15:18.614178Z",
     "shell.execute_reply": "2022-08-27T10:15:18.612903Z"
    },
    "papermill": {
     "duration": 0.032978,
     "end_time": "2022-08-27T10:15:18.616621",
     "exception": false,
     "start_time": "2022-08-27T10:15:18.583643",
     "status": "completed"
    },
    "tags": []
   },
   "outputs": [
    {
     "data": {
      "text/plain": [
       "Missing                   2634\n",
       "Rajiv Chilaka               19\n",
       "Raúl Campos, Jan Suter      18\n",
       "Suhas Kadav                 16\n",
       "Marcus Raboy                16\n",
       "Jay Karas                   14\n",
       "Cathy Garcia-Molina         13\n",
       "Jay Chapman                 12\n",
       "Youssef Chahine             12\n",
       "Martin Scorsese             12\n",
       "Name: director, dtype: int64"
      ]
     },
     "execution_count": 21,
     "metadata": {},
     "output_type": "execute_result"
    }
   ],
   "source": [
    "netflix_data[\"director\"].value_counts().head(10)"
   ]
  },
  {
   "cell_type": "code",
   "execution_count": 22,
   "id": "1f051d67",
   "metadata": {
    "execution": {
     "iopub.execute_input": "2022-08-27T10:15:18.651818Z",
     "iopub.status.busy": "2022-08-27T10:15:18.650928Z",
     "iopub.status.idle": "2022-08-27T10:15:18.936289Z",
     "shell.execute_reply": "2022-08-27T10:15:18.934801Z"
    },
    "papermill": {
     "duration": 0.3055,
     "end_time": "2022-08-27T10:15:18.939075",
     "exception": false,
     "start_time": "2022-08-27T10:15:18.633575",
     "status": "completed"
    },
    "tags": []
   },
   "outputs": [
    {
     "data": {
      "text/plain": [
       "Text(0.5, 1.0, 'Top 10 Director')"
      ]
     },
     "execution_count": 22,
     "metadata": {},
     "output_type": "execute_result"
    },
    {
     "data": {
      "image/png": "[encoded data removed]",
      "text/plain": [
       "<Figure size 864x576 with 1 Axes>"
      ]
     },
     "metadata": {},
     "output_type": "display_data"
    }
   ],
   "source": [
    "plt.figure(figsize=(12,8))\n",
    "sns.countplot(x = \"director\", order = netflix_data[\"director\"].value_counts().index[:10], data = netflix_data)\n",
    "plt.title(\"Top 10 Director\")"
   ]
  },
  {
   "cell_type": "code",
   "execution_count": null,
   "id": "d47717b6",
   "metadata": {
    "papermill": {
     "duration": 0.018199,
     "end_time": "2022-08-27T10:15:18.974176",
     "exception": false,
     "start_time": "2022-08-27T10:15:18.955977",
     "status": "completed"
    },
    "tags": []
   },
   "outputs": [],
   "source": []
  },
  {
   "cell_type": "markdown",
   "id": "5b848c77",
   "metadata": {
    "papermill": {
     "duration": 0.015365,
     "end_time": "2022-08-27T10:15:19.005729",
     "exception": false,
     "start_time": "2022-08-27T10:15:18.990364",
     "status": "completed"
    },
    "tags": []
   },
   "source": [
    "### Summary\n",
    "\n",
    "We had performed lot of operation on these dataset and dig out some of the most useful information. We can conclude as follows:\n",
    "\n",
    "1. Netflix has more Movies than TV Shows\n",
    "2. Most No. Of Movies and TV Shows are produced By United States.\n",
    "3. 2019 is the year in which Netflix has produced most no of content.\n",
    "4. Similarly July is the month in which Netflix has produced most no of content.\n",
    "5. Rajiv Chilka is the top most director who has produced more no of movies on Netflix.\n",
    "6. Dramas is the Genre which is most popular among the audience."
   ]
  },
  {
   "cell_type": "code",
   "execution_count": null,
   "id": "fca9cd3f",
   "metadata": {
    "papermill": {
     "duration": 0.015708,
     "end_time": "2022-08-27T10:15:19.037565",
     "exception": false,
     "start_time": "2022-08-27T10:15:19.021857",
     "status": "completed"
    },
    "tags": []
   },
   "outputs": [],
   "source": []
  },
  {
   "cell_type": "code",
   "execution_count": null,
   "id": "de7f6d05",
   "metadata": {
    "papermill": {
     "duration": 0.01536,
     "end_time": "2022-08-27T10:15:19.069579",
     "exception": false,
     "start_time": "2022-08-27T10:15:19.054219",
     "status": "completed"
    },
    "tags": []
   },
   "outputs": [],
   "source": []
  },
  {
   "cell_type": "code",
   "execution_count": null,
   "id": "069fc08f",
   "metadata": {
    "papermill": {
     "duration": 0.015283,
     "end_time": "2022-08-27T10:15:19.100646",
     "exception": false,
     "start_time": "2022-08-27T10:15:19.085363",
     "status": "completed"
    },
    "tags": []
   },
   "outputs": [],
   "source": []
  },
  {
   "cell_type": "code",
   "execution_count": null,
   "id": "7088071d",
   "metadata": {
    "papermill": {
     "duration": 0.015209,
     "end_time": "2022-08-27T10:15:19.132207",
     "exception": false,
     "start_time": "2022-08-27T10:15:19.116998",
     "status": "completed"
    },
    "tags": []
   },
   "outputs": [],
   "source": []
  },
  {
   "cell_type": "code",
   "execution_count": null,
   "id": "604f7fda",
   "metadata": {
    "papermill": {
     "duration": 0.015064,
     "end_time": "2022-08-27T10:15:19.162973",
     "exception": false,
     "start_time": "2022-08-27T10:15:19.147909",
     "status": "completed"
    },
    "tags": []
   },
   "outputs": [],
   "source": []
  },
  {
   "cell_type": "code",
   "execution_count": null,
   "id": "08a552c4",
   "metadata": {
    "papermill": {
     "duration": 0.01513,
     "end_time": "2022-08-27T10:15:19.193800",
     "exception": false,
     "start_time": "2022-08-27T10:15:19.178670",
     "status": "completed"
    },
    "tags": []
   },
   "outputs": [],
   "source": []
  },
  {
   "cell_type": "code",
   "execution_count": null,
   "id": "9781bbef",
   "metadata": {
    "papermill": {
     "duration": 0.015142,
     "end_time": "2022-08-27T10:15:19.224516",
     "exception": false,
     "start_time": "2022-08-27T10:15:19.209374",
     "status": "completed"
    },
    "tags": []
   },
   "outputs": [],
   "source": []
  }
 ],
 "metadata": {
  "kernelspec": {
   "display_name": "Python 3",
   "language": "python",
   "name": "python3"
  },
  "language_info": {
   "codemirror_mode": {
    "name": "ipython",
    "version": 3
   },
   "file_extension": ".py",
   "mimetype": "text/x-python",
   "name": "python",
   "nbconvert_exporter": "python",
   "pygments_lexer": "ipython3",
   "version": "3.7.12"
  },
  "papermill": {
   "default_parameters": {},
   "duration": 16.092697,
   "end_time": "2022-08-27T10:15:20.366558",
   "environment_variables": {},
   "exception": null,
   "input_path": "__notebook__.ipynb",
   "output_path": "__notebook__.ipynb",
   "parameters": {},
   "start_time": "2022-08-27T10:15:04.273861",
   "version": "2.3.4"
  }
 },
 "nbformat": 4,
 "nbformat_minor": 5
}
