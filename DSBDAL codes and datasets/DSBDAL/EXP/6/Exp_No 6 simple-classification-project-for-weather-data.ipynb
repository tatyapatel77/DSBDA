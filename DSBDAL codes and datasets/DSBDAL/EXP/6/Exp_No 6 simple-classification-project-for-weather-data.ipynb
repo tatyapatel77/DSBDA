{
 "cells": [
  {
   "cell_type": "code",
   "execution_count": 1,
   "id": "37d7ea98",
   "metadata": {
    "execution": {
     "iopub.execute_input": "2023-05-12T16:53:54.368325Z",
     "iopub.status.busy": "2023-05-12T16:53:54.367401Z",
     "iopub.status.idle": "2023-05-12T16:53:56.039902Z",
     "shell.execute_reply": "2023-05-12T16:53:56.038807Z"
    },
    "papermill": {
     "duration": 1.682338,
     "end_time": "2023-05-12T16:53:56.042777",
     "exception": false,
     "start_time": "2023-05-12T16:53:54.360439",
     "status": "completed"
    },
    "tags": []
   },
   "outputs": [
    {
     "name": "stderr",
     "output_type": "stream",
     "text": [
      "/opt/conda/lib/python3.10/site-packages/scipy/__init__.py:146: UserWarning: A NumPy version >=1.16.5 and <1.23.0 is required for this version of SciPy (detected version 1.23.5\n",
      "  warnings.warn(f\"A NumPy version >={np_minversion} and <{np_maxversion}\"\n"
     ]
    }
   ],
   "source": [
    "import numpy as np\n",
    "import pandas as pd\n",
    "from sklearn.preprocessing import OneHotEncoder, StandardScaler\n",
    "from sklearn.pipeline import Pipeline\n",
    "from sklearn.impute import SimpleImputer\n",
    "from sklearn.model_selection import StratifiedShuffleSplit\n",
    "from sklearn.compose import ColumnTransformer\n",
    "from sklearn.metrics import mean_squared_error, accuracy_score, f1_score, confusion_matrix, \\\n",
    "    precision_recall_fscore_support\n",
    "from sklearn.linear_model import LogisticRegression, LinearRegression\n",
    "from sklearn.tree import DecisionTreeClassifier, DecisionTreeRegressor\n",
    "from sklearn.ensemble import RandomForestClassifier"
   ]
  },
  {
   "cell_type": "markdown",
   "id": "adee560c",
   "metadata": {
    "papermill": {
     "duration": 0.004841,
     "end_time": "2023-05-12T16:53:56.052959",
     "exception": false,
     "start_time": "2023-05-12T16:53:56.048118",
     "status": "completed"
    },
    "tags": []
   },
   "source": [
    "# Prepairing Data\n",
    "*Load the data from a file path:*"
   ]
  },
  {
   "cell_type": "code",
   "execution_count": 2,
   "id": "564e3eb1",
   "metadata": {
    "execution": {
     "iopub.execute_input": "2023-05-12T16:53:56.065231Z",
     "iopub.status.busy": "2023-05-12T16:53:56.064825Z",
     "iopub.status.idle": "2023-05-12T16:53:56.232611Z",
     "shell.execute_reply": "2023-05-12T16:53:56.231683Z"
    },
    "papermill": {
     "duration": 0.17726,
     "end_time": "2023-05-12T16:53:56.235332",
     "exception": false,
     "start_time": "2023-05-12T16:53:56.058072",
     "status": "completed"
    },
    "tags": []
   },
   "outputs": [],
   "source": [
    "weather_data = pd.read_csv('/kaggle/input/weather-data/weather.csv', sep=',')"
   ]
  },
  {
   "cell_type": "markdown",
   "id": "3fbb648d",
   "metadata": {
    "papermill": {
     "duration": 0.004871,
     "end_time": "2023-05-12T16:53:56.245422",
     "exception": false,
     "start_time": "2023-05-12T16:53:56.240551",
     "status": "completed"
    },
    "tags": []
   },
   "source": [
    "*Remove unnecessary columns and separate the target variable*\n",
    "\n",
    "Replace method used to create a binary data."
   ]
  },
  {
   "cell_type": "code",
   "execution_count": 3,
   "id": "5408acf9",
   "metadata": {
    "execution": {
     "iopub.execute_input": "2023-05-12T16:53:56.258190Z",
     "iopub.status.busy": "2023-05-12T16:53:56.257335Z",
     "iopub.status.idle": "2023-05-12T16:53:56.298173Z",
     "shell.execute_reply": "2023-05-12T16:53:56.296988Z"
    },
    "papermill": {
     "duration": 0.050459,
     "end_time": "2023-05-12T16:53:56.301090",
     "exception": false,
     "start_time": "2023-05-12T16:53:56.250631",
     "status": "completed"
    },
    "tags": []
   },
   "outputs": [],
   "source": [
    "weather_data = weather_data.drop(['Unnamed: 0', 'Date'], axis=1)\n",
    "target = weather_data['RainTomorrow']\n",
    "target.replace({'Yes': 1, 'No': 0}, inplace=True)"
   ]
  },
  {
   "cell_type": "markdown",
   "id": "38af50b1",
   "metadata": {
    "papermill": {
     "duration": 0.004833,
     "end_time": "2023-05-12T16:53:56.311202",
     "exception": false,
     "start_time": "2023-05-12T16:53:56.306369",
     "status": "completed"
    },
    "tags": []
   },
   "source": [
    "# Split the data\n",
    "*Split the data into training and testing sets:*\n",
    "\n",
    "Using Stratified Shuffle Split because our data is not neccesirly balanced"
   ]
  },
  {
   "cell_type": "code",
   "execution_count": 4,
   "id": "1df16fbb",
   "metadata": {
    "execution": {
     "iopub.execute_input": "2023-05-12T16:53:56.323671Z",
     "iopub.status.busy": "2023-05-12T16:53:56.322747Z",
     "iopub.status.idle": "2023-05-12T16:53:56.523241Z",
     "shell.execute_reply": "2023-05-12T16:53:56.521826Z"
    },
    "papermill": {
     "duration": 0.209586,
     "end_time": "2023-05-12T16:53:56.525963",
     "exception": false,
     "start_time": "2023-05-12T16:53:56.316377",
     "status": "completed"
    },
    "tags": []
   },
   "outputs": [],
   "source": [
    "split = StratifiedShuffleSplit()\n",
    "for train_index, test_index in split.split(weather_data, target):\n",
    "    strat_train_set = weather_data.loc[train_index]\n",
    "    strat_test_set = weather_data.loc[test_index]"
   ]
  },
  {
   "cell_type": "markdown",
   "id": "db3f1b24",
   "metadata": {
    "papermill": {
     "duration": 0.005135,
     "end_time": "2023-05-12T16:53:56.536349",
     "exception": false,
     "start_time": "2023-05-12T16:53:56.531214",
     "status": "completed"
    },
    "tags": []
   },
   "source": [
    "*Separate the features into categorical and numerical features*"
   ]
  },
  {
   "cell_type": "code",
   "execution_count": 5,
   "id": "bb8ad925",
   "metadata": {
    "execution": {
     "iopub.execute_input": "2023-05-12T16:53:56.548681Z",
     "iopub.status.busy": "2023-05-12T16:53:56.548231Z",
     "iopub.status.idle": "2023-05-12T16:53:56.575890Z",
     "shell.execute_reply": "2023-05-12T16:53:56.574822Z"
    },
    "papermill": {
     "duration": 0.036999,
     "end_time": "2023-05-12T16:53:56.578659",
     "exception": false,
     "start_time": "2023-05-12T16:53:56.541660",
     "status": "completed"
    },
    "tags": []
   },
   "outputs": [],
   "source": [
    "train_features = strat_train_set.drop(['RainTomorrow'], axis=1).copy()\n",
    "categorical_features = train_features[['Location', 'WindGustDir', 'WindDir9am', 'WindDir3pm', 'RainToday']]\n",
    "numerical_features = train_features.drop(['Location', 'WindGustDir', 'WindDir9am', 'WindDir3pm', 'RainToday'], axis=1)\n",
    "categorical_attribs = list(categorical_features)\n",
    "numerical_attribs = list(numerical_features)\n",
    "\n",
    "test_features = strat_test_set.drop(['RainTomorrow'], axis=1).copy()\n",
    "categorical_features_test = test_features[['Location', 'WindGustDir', 'WindDir9am', 'WindDir3pm', 'RainToday']]\n",
    "numerical_features_test = test_features.drop(['Location', 'WindGustDir', 'WindDir9am', 'WindDir3pm', 'RainToday'],axis=1)\n",
    "categorical_attribs_test = list(categorical_features_test)\n",
    "numerical_attribs_test = list(numerical_features_test)\n",
    "\n",
    "target_train = target.loc[train_index]\n",
    "target_test = target.loc[test_index]"
   ]
  },
  {
   "cell_type": "markdown",
   "id": "096bae05",
   "metadata": {
    "papermill": {
     "duration": 0.004825,
     "end_time": "2023-05-12T16:53:56.588762",
     "exception": false,
     "start_time": "2023-05-12T16:53:56.583937",
     "status": "completed"
    },
    "tags": []
   },
   "source": [
    "# Data Pipeline\n",
    "*Create Pipeline for Data and apply it to features:*"
   ]
  },
  {
   "cell_type": "code",
   "execution_count": 6,
   "id": "68d39ce6",
   "metadata": {
    "execution": {
     "iopub.execute_input": "2023-05-12T16:53:56.601288Z",
     "iopub.status.busy": "2023-05-12T16:53:56.600399Z",
     "iopub.status.idle": "2023-05-12T16:53:56.781899Z",
     "shell.execute_reply": "2023-05-12T16:53:56.780812Z"
    },
    "papermill": {
     "duration": 0.190657,
     "end_time": "2023-05-12T16:53:56.784590",
     "exception": false,
     "start_time": "2023-05-12T16:53:56.593933",
     "status": "completed"
    },
    "tags": []
   },
   "outputs": [],
   "source": [
    "numerical_pipeline = Pipeline([\n",
    "    ('imputer', SimpleImputer(strategy='median')),\n",
    "    ('std_scaler', StandardScaler())\n",
    "])\n",
    "\n",
    "\n",
    "full_pipeline = ColumnTransformer([\n",
    "    ('num', numerical_pipeline, numerical_attribs),\n",
    "    ('cat', OneHotEncoder(), categorical_attribs)\n",
    "])\n",
    "\n",
    "# Apply the full pipeline to the features\n",
    "processed_train_features = full_pipeline.fit_transform(train_features)\n",
    "processed_test_features = full_pipeline.transform(test_features)"
   ]
  },
  {
   "cell_type": "markdown",
   "id": "79ac1a60",
   "metadata": {
    "papermill": {
     "duration": 0.004851,
     "end_time": "2023-05-12T16:53:56.794837",
     "exception": false,
     "start_time": "2023-05-12T16:53:56.789986",
     "status": "completed"
    },
    "tags": []
   },
   "source": [
    "# The Classifier\n",
    "Defining a Classifier class help to do classifications with minimum code. \n",
    "It Fit, Predict, Evaluate and Test..."
   ]
  },
  {
   "cell_type": "code",
   "execution_count": 7,
   "id": "8d9250c2",
   "metadata": {
    "execution": {
     "iopub.execute_input": "2023-05-12T16:53:56.807681Z",
     "iopub.status.busy": "2023-05-12T16:53:56.806844Z",
     "iopub.status.idle": "2023-05-12T16:53:56.817659Z",
     "shell.execute_reply": "2023-05-12T16:53:56.816480Z"
    },
    "papermill": {
     "duration": 0.020684,
     "end_time": "2023-05-12T16:53:56.820640",
     "exception": false,
     "start_time": "2023-05-12T16:53:56.799956",
     "status": "completed"
    },
    "tags": []
   },
   "outputs": [],
   "source": [
    "class Classifier:\n",
    "    def __init__(self, feature, label, f_test, l_test):\n",
    "        self.feature = feature\n",
    "        self.label = label\n",
    "        self.f_test = f_test\n",
    "        self.l_test = l_test\n",
    "\n",
    "    def logistic_classifier(self):\n",
    "        print('\\nLogistic Regression Started.......')\n",
    "        model = LogisticRegression()\n",
    "        fit = model.fit(self.feature, self.label)\n",
    "        prediction = fit.predict(self.feature)\n",
    "        rmse = np.sqrt(mean_squared_error(self.label, prediction))\n",
    "        print(rmse)\n",
    "\n",
    "    def decision_tree(self):\n",
    "        print('\\nDecision Tree Regression Started.......')\n",
    "        model = DecisionTreeClassifier()\n",
    "        fit = model.fit(self.feature, self.label)\n",
    "        score = fit\n",
    "        print(score)\n",
    "\n",
    "    def random_forest(self):\n",
    "        print('\\nRandom Forest Started.......')\n",
    "        model = RandomForestClassifier(max_depth=5, n_estimators=1000, random_state=42)\n",
    "        fit = model.fit(self.feature, self.label)\n",
    "        score = fit.score(self.f_test, self.l_test)\n",
    "        print(f\"Forest's Score is: {score}\")"
   ]
  },
  {
   "cell_type": "markdown",
   "id": "0197c6d5",
   "metadata": {
    "papermill": {
     "duration": 0.004883,
     "end_time": "2023-05-12T16:53:56.830806",
     "exception": false,
     "start_time": "2023-05-12T16:53:56.825923",
     "status": "completed"
    },
    "tags": []
   },
   "source": [
    "Define a Random Forest Classifier"
   ]
  },
  {
   "cell_type": "code",
   "execution_count": 8,
   "id": "f4964aea",
   "metadata": {
    "execution": {
     "iopub.execute_input": "2023-05-12T16:53:56.843477Z",
     "iopub.status.busy": "2023-05-12T16:53:56.842775Z",
     "iopub.status.idle": "2023-05-12T16:54:17.097165Z",
     "shell.execute_reply": "2023-05-12T16:54:17.095636Z"
    },
    "papermill": {
     "duration": 20.263866,
     "end_time": "2023-05-12T16:54:17.099822",
     "exception": false,
     "start_time": "2023-05-12T16:53:56.835956",
     "status": "completed"
    },
    "tags": []
   },
   "outputs": [
    {
     "name": "stdout",
     "output_type": "stream",
     "text": [
      "\n",
      "Random Forest Started.......\n",
      "Forest's Score is: 0.9712\n"
     ]
    }
   ],
   "source": [
    "class_ = Classifier(processed_train_features, target_train, processed_test_features, target_test)\n",
    "class_.random_forest()"
   ]
  }
 ],
 "metadata": {
  "kernelspec": {
   "display_name": "Python 3",
   "language": "python",
   "name": "python3"
  },
  "language_info": {
   "codemirror_mode": {
    "name": "ipython",
    "version": 3
   },
   "file_extension": ".py",
   "mimetype": "text/x-python",
   "name": "python",
   "nbconvert_exporter": "python",
   "pygments_lexer": "ipython3",
   "version": "3.10.10"
  },
  "papermill": {
   "default_parameters": {},
   "duration": 36.259447,
   "end_time": "2023-05-12T16:54:18.128293",
   "environment_variables": {},
   "exception": null,
   "input_path": "__notebook__.ipynb",
   "output_path": "__notebook__.ipynb",
   "parameters": {},
   "start_time": "2023-05-12T16:53:41.868846",
   "version": "2.4.0"
  }
 },
 "nbformat": 4,
 "nbformat_minor": 5
}
